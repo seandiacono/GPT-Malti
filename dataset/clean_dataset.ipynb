{
 "cells": [
  {
   "cell_type": "code",
   "execution_count": 10,
   "metadata": {},
   "outputs": [],
   "source": [
    "with open('dataset.txt', 'r') as f:\n",
    "    text = f.read()"
   ]
  },
  {
   "cell_type": "code",
   "execution_count": 11,
   "metadata": {},
   "outputs": [
    {
     "name": "stdout",
     "output_type": "stream",
     "text": [
      "Length of dataset in characters: 2324826265\n"
     ]
    }
   ],
   "source": [
    "print(\"Length of dataset in characters:\", len(text))"
   ]
  },
  {
   "cell_type": "code",
   "execution_count": 12,
   "metadata": {},
   "outputs": [
    {
     "name": "stdout",
     "output_type": "stream",
     "text": [
      "Mal-5000 student u studenta tal-ħames klassi tas-sekondarja qed iħejju għall-eżami l-ġdid tal-Malti li se jsir f'Mejju li ġej. Għall-ewwel darba se jkollhom karta tal-letteratura li tirrifletti r-realtajiet tagħhom bħala tfajliet u ġuvintur ta' ħmistax, sittax-il sena. Fl-istess ħin is-sillabu jippreżentalhom firxa ta' kitbiet differenti li juruhom x'jistgħu jagħmlu huma stess bil-lingwa. Kif taħdem il-letteratura Il-karta tal-eżami l-ġdida tixħet l-attenzjoni mhux iżjed fuq x'tgħid il-letteratura imma kif tgħidu. Kif taħdem. Il-letteratura mhix iżjed ittrattata bħallikieku maħżen ta' informazzjoni dwar l-istorja ta' Malta, jew dwar ir-relazzjo-nijiet bejn il-bnedmin, imma bħala għodda li tinqeda bi strateġiji partikolari. Uħud minn dawn l-istrateġiji ta' diskors nużawhom fid-diskors tagħna ta' kuljum. Fosthom insibu l-għażla attenta tal-kliem u tal-ħsejjes li joħloq, it-ton, ir-repetizzjoni, ix-xbihat, il-metafori, u l-mistoqsija retorika. Imma fil-letteratura l-istil huwa sikwit ikta\n"
     ]
    }
   ],
   "source": [
    "print(text[:1000])"
   ]
  },
  {
   "cell_type": "code",
   "execution_count": 13,
   "metadata": {},
   "outputs": [
    {
     "name": "stdout",
     "output_type": "stream",
     "text": [
      "\t\f !\"#$%&'()*+,-./0123456789:;<=>?@ABCDEFGHIJKLMNOPQRSTUVWXYZ[]_`abcdefghijklmnopqrstuvwxyz{|} ¥§«­°±·»¿ÀÕÖ×ØàáãäçèéìíïðòóôöùúüăĊċčėęĠġĦħłŠšŻżžʼ̧̇αεικμνορςτавеиклнорстћ​‐–—‘’“”‟•…′€−≤≥▌☐\n",
      "Vocabulary size: 187\n"
     ]
    }
   ],
   "source": [
    "chars = sorted(list(set(text)))\n",
    "vocab_size = len(chars)\n",
    "print(''.join(chars))\n",
    "print('Vocabulary size:', vocab_size)"
   ]
  },
  {
   "cell_type": "code",
   "execution_count": 7,
   "metadata": {},
   "outputs": [],
   "source": [
    "# Create list of characters that appear less than\n",
    "chars_to_remove = []\n",
    "for char in chars:\n",
    "    if text.count(char) < 2000:\n",
    "        chars_to_remove.append(char)"
   ]
  },
  {
   "cell_type": "code",
   "execution_count": 8,
   "metadata": {},
   "outputs": [],
   "source": [
    "# Remove characters that appear less than 100 times\n",
    "for char in chars_to_remove:\n",
    "    text = text.replace(char, '')\n",
    "    chars.remove(char)"
   ]
  },
  {
   "cell_type": "code",
   "execution_count": 9,
   "metadata": {},
   "outputs": [],
   "source": [
    "# Save cleaned text\n",
    "with open('dataset_cleaned.txt', 'w') as f:\n",
    "    f.write(text)"
   ]
  }
 ],
 "metadata": {
  "kernelspec": {
   "display_name": "base",
   "language": "python",
   "name": "python3"
  },
  "language_info": {
   "codemirror_mode": {
    "name": "ipython",
    "version": 3
   },
   "file_extension": ".py",
   "mimetype": "text/x-python",
   "name": "python",
   "nbconvert_exporter": "python",
   "pygments_lexer": "ipython3",
   "version": "3.9.12 (main, Apr  5 2022, 01:53:17) \n[Clang 12.0.0 ]"
  },
  "orig_nbformat": 4,
  "vscode": {
   "interpreter": {
    "hash": "bf0892984f6b17b1de3bdb4b8b4614b1c3aaa89024a9d290ae0adb6e588e9fa6"
   }
  }
 },
 "nbformat": 4,
 "nbformat_minor": 2
}
